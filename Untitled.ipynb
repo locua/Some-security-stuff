{
 "cells": [
  {
   "cell_type": "code",
   "execution_count": 58,
   "metadata": {},
   "outputs": [
    {
     "data": {
      "text/plain": [
       "['Sonny', 'noam', 'Florent', 'Laura', 'soko', 'Nat', 'David', 'Louis']"
      ]
     },
     "execution_count": 58,
     "metadata": {},
     "output_type": "execute_result"
    }
   ],
   "source": [
    "people = [\"noam\", \"Laura\", \"Florent\", \"Louis\", \"Sonny\", \"David\", \"Nat\", \"soko\"]\n",
    "from random import shuffle, random\n",
    "\n",
    "shuffle(people)\n",
    "# print(people)\n",
    "# for i in range (0, 7):\n",
    "#     print(people[i], people[randint(0, len(people)-1)])\n",
    "\n",
    "people"
   ]
  },
  {
   "cell_type": "code",
   "execution_count": null,
   "metadata": {},
   "outputs": [],
   "source": [
    "\n"
   ]
  }
 ],
 "metadata": {
  "kernelspec": {
   "display_name": "Python 3",
   "language": "python",
   "name": "python3"
  },
  "language_info": {
   "codemirror_mode": {
    "name": "ipython",
    "version": 3
   },
   "file_extension": ".py",
   "mimetype": "text/x-python",
   "name": "python",
   "nbconvert_exporter": "python",
   "pygments_lexer": "ipython3",
   "version": "3.6.9"
  }
 },
 "nbformat": 4,
 "nbformat_minor": 4
}
